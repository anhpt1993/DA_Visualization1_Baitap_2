{
 "cells": [
  {
   "cell_type": "markdown",
   "id": "fe1c0380-c8b7-4555-b6d2-6cae28899e6c",
   "metadata": {},
   "source": [
    "# 0. Khai báo các thư viện cần thiết"
   ]
  },
  {
   "cell_type": "code",
   "execution_count": 1,
   "id": "6daf9d18-ee3d-41ad-900e-535571b346ea",
   "metadata": {},
   "outputs": [],
   "source": [
    "import pandas as pd\n",
    "import numpy as np\n",
    "import matplotlib.pyplot as plt\n",
    "from sklearn.preprocessing import MinMaxScaler, RobustScaler, StandardScaler\n",
    "from scipy import stats"
   ]
  },
  {
   "cell_type": "markdown",
   "id": "176aef9a-6272-4714-81d3-7da43051712f",
   "metadata": {},
   "source": [
    "# 1. Đọc file dữ liệu EXCEL"
   ]
  },
  {
   "cell_type": "code",
   "execution_count": 2,
   "id": "e3a93cc9-a23a-4130-b671-d3b710f94921",
   "metadata": {},
   "outputs": [
    {
     "name": "stderr",
     "output_type": "stream",
     "text": [
      "C:\\Users\\PHAM THE ANH\\AppData\\Local\\Programs\\Python\\Python310\\lib\\site-packages\\openpyxl\\worksheet\\_reader.py:312: UserWarning: Unknown extension is not supported and will be removed\n",
      "  warn(msg)\n"
     ]
    },
    {
     "data": {
      "text/html": [
       "<div>\n",
       "<style scoped>\n",
       "    .dataframe tbody tr th:only-of-type {\n",
       "        vertical-align: middle;\n",
       "    }\n",
       "\n",
       "    .dataframe tbody tr th {\n",
       "        vertical-align: top;\n",
       "    }\n",
       "\n",
       "    .dataframe thead th {\n",
       "        text-align: right;\n",
       "    }\n",
       "</style>\n",
       "<table border=\"1\" class=\"dataframe\">\n",
       "  <thead>\n",
       "    <tr style=\"text-align: right;\">\n",
       "      <th></th>\n",
       "      <th>title</th>\n",
       "      <th>address</th>\n",
       "      <th>area</th>\n",
       "      <th>price</th>\n",
       "      <th>postDate</th>\n",
       "      <th>land_certificate</th>\n",
       "      <th>house_direction</th>\n",
       "      <th>balcony_direction</th>\n",
       "      <th>toilet</th>\n",
       "      <th>bedroom</th>\n",
       "      <th>floor</th>\n",
       "      <th>type_of_land</th>\n",
       "      <th>street_name</th>\n",
       "      <th>ward_name</th>\n",
       "      <th>district_name</th>\n",
       "      <th>city_name</th>\n",
       "      <th>lat</th>\n",
       "      <th>long</th>\n",
       "    </tr>\n",
       "  </thead>\n",
       "  <tbody>\n",
       "    <tr>\n",
       "      <th>0</th>\n",
       "      <td>Bán nhà Trần Quang Diệu mới coong đẹp 50m2x6 t...</td>\n",
       "      <td>Đường Trần Quang Diệu, Phường Trung Liệt, Đốn...</td>\n",
       "      <td>50.0</td>\n",
       "      <td>14700.0</td>\n",
       "      <td>2021-01-01</td>\n",
       "      <td>Sổ đỏ</td>\n",
       "      <td>NaN</td>\n",
       "      <td>NaN</td>\n",
       "      <td>4.0</td>\n",
       "      <td>6.0</td>\n",
       "      <td>6.0</td>\n",
       "      <td>Bán nhà riêng\\n</td>\n",
       "      <td>Đường Trần Quang Diệu</td>\n",
       "      <td>Phường Trung Liệt</td>\n",
       "      <td>Quận Đống Đa</td>\n",
       "      <td>Thành phố Hà Nội</td>\n",
       "      <td>21.015698</td>\n",
       "      <td>105.824583</td>\n",
       "    </tr>\n",
       "    <tr>\n",
       "      <th>1</th>\n",
       "      <td>Bán nhà mặt phố Tây Sơn - 6 tầng. Kinh doanh t...</td>\n",
       "      <td>Đường Tây Sơn, Phường Trung Liệt, Đống Đa, Hà...</td>\n",
       "      <td>35.0</td>\n",
       "      <td>12500.0</td>\n",
       "      <td>2021-02-19</td>\n",
       "      <td>Sổ đỏ</td>\n",
       "      <td>NaN</td>\n",
       "      <td>NaN</td>\n",
       "      <td>NaN</td>\n",
       "      <td>NaN</td>\n",
       "      <td>6.0</td>\n",
       "      <td>Bán nhà mặt phố\\n</td>\n",
       "      <td>Phố Trung Liệt</td>\n",
       "      <td>Phường Trung Liệt</td>\n",
       "      <td>Quận Đống Đa</td>\n",
       "      <td>Thành phố Hà Nội</td>\n",
       "      <td>21.008930</td>\n",
       "      <td>105.824105</td>\n",
       "    </tr>\n",
       "    <tr>\n",
       "      <th>2</th>\n",
       "      <td>Bán nhà số 36 Đoàn Kết - phố Khâm Thiên - Đống...</td>\n",
       "      <td>Số 36 Đoàn Kết, Phố Khâm Thiên, Phường Thổ Qu...</td>\n",
       "      <td>57.0</td>\n",
       "      <td>4200.0</td>\n",
       "      <td>2021-03-10</td>\n",
       "      <td>Sổ đỏ</td>\n",
       "      <td>Nam</td>\n",
       "      <td>Nam</td>\n",
       "      <td>3.0</td>\n",
       "      <td>8.0</td>\n",
       "      <td>4.0</td>\n",
       "      <td>Bán nhà riêng\\n</td>\n",
       "      <td>Phố Khâm Thiên</td>\n",
       "      <td>Phường Khâm Thiên</td>\n",
       "      <td>Quận Đống Đa</td>\n",
       "      <td>Thành phố Hà Nội</td>\n",
       "      <td>21.025208</td>\n",
       "      <td>105.833111</td>\n",
       "    </tr>\n",
       "    <tr>\n",
       "      <th>3</th>\n",
       "      <td>Bán nhà 6 tầng mới kinh doanh mặt ngõ 1194 Đườ...</td>\n",
       "      <td>Ngõ 1194, Đường Láng, Phường Láng Thượng, Đố...</td>\n",
       "      <td>62.0</td>\n",
       "      <td>11000.0</td>\n",
       "      <td>2021-03-13</td>\n",
       "      <td>Sổ đỏ</td>\n",
       "      <td>Đông</td>\n",
       "      <td>Đông-Nam</td>\n",
       "      <td>6.0</td>\n",
       "      <td>5.0</td>\n",
       "      <td>6.0</td>\n",
       "      <td>Bán nhà riêng\\n</td>\n",
       "      <td>Đường Láng Thượng</td>\n",
       "      <td>Phường Láng Thượng</td>\n",
       "      <td>Quận Đống Đa</td>\n",
       "      <td>Thành phố Hà Nội</td>\n",
       "      <td>21.025379</td>\n",
       "      <td>105.801011</td>\n",
       "    </tr>\n",
       "    <tr>\n",
       "      <th>4</th>\n",
       "      <td>Bán nhà mặt phố Thái Hà 70m2, 5 tầng, 4.5m mặt...</td>\n",
       "      <td>Phố Thái Hà, Phường Trung Liệt, Đống Đa, Hà Nội</td>\n",
       "      <td>70.0</td>\n",
       "      <td>36000.0</td>\n",
       "      <td>2021-03-13</td>\n",
       "      <td>Sổ đỏ</td>\n",
       "      <td>NaN</td>\n",
       "      <td>NaN</td>\n",
       "      <td>NaN</td>\n",
       "      <td>6.0</td>\n",
       "      <td>5.0</td>\n",
       "      <td>Bán nhà mặt phố\\n</td>\n",
       "      <td>Phố Trung Liệt</td>\n",
       "      <td>Phường Trung Liệt</td>\n",
       "      <td>Quận Đống Đa</td>\n",
       "      <td>Thành phố Hà Nội</td>\n",
       "      <td>21.009239</td>\n",
       "      <td>105.824230</td>\n",
       "    </tr>\n",
       "  </tbody>\n",
       "</table>\n",
       "</div>"
      ],
      "text/plain": [
       "                                               title  \\\n",
       "0  Bán nhà Trần Quang Diệu mới coong đẹp 50m2x6 t...   \n",
       "1  Bán nhà mặt phố Tây Sơn - 6 tầng. Kinh doanh t...   \n",
       "2  Bán nhà số 36 Đoàn Kết - phố Khâm Thiên - Đống...   \n",
       "3  Bán nhà 6 tầng mới kinh doanh mặt ngõ 1194 Đườ...   \n",
       "4  Bán nhà mặt phố Thái Hà 70m2, 5 tầng, 4.5m mặt...   \n",
       "\n",
       "                                             address  area    price  \\\n",
       "0  Đường Trần Quang Diệu, Phường Trung Liệt, Đốn...  50.0  14700.0   \n",
       "1  Đường Tây Sơn, Phường Trung Liệt, Đống Đa, Hà...  35.0  12500.0   \n",
       "2  Số 36 Đoàn Kết, Phố Khâm Thiên, Phường Thổ Qu...  57.0   4200.0   \n",
       "3  Ngõ 1194, Đường Láng, Phường Láng Thượng, Đố...  62.0  11000.0   \n",
       "4   Phố Thái Hà, Phường Trung Liệt, Đống Đa, Hà Nội  70.0  36000.0   \n",
       "\n",
       "    postDate land_certificate house_direction balcony_direction  toilet  \\\n",
       "0 2021-01-01            Sổ đỏ             NaN               NaN     4.0   \n",
       "1 2021-02-19            Sổ đỏ             NaN               NaN     NaN   \n",
       "2 2021-03-10            Sổ đỏ             Nam               Nam     3.0   \n",
       "3 2021-03-13            Sổ đỏ            Đông          Đông-Nam     6.0   \n",
       "4 2021-03-13            Sổ đỏ             NaN               NaN     NaN   \n",
       "\n",
       "   bedroom  floor        type_of_land            street_name  \\\n",
       "0      6.0    6.0    Bán nhà riêng\\n   Đường Trần Quang Diệu   \n",
       "1      NaN    6.0  Bán nhà mặt phố\\n          Phố Trung Liệt   \n",
       "2      8.0    4.0    Bán nhà riêng\\n          Phố Khâm Thiên   \n",
       "3      5.0    6.0    Bán nhà riêng\\n       Đường Láng Thượng   \n",
       "4      6.0    5.0  Bán nhà mặt phố\\n          Phố Trung Liệt   \n",
       "\n",
       "            ward_name district_name         city_name        lat        long  \n",
       "0   Phường Trung Liệt  Quận Đống Đa  Thành phố Hà Nội  21.015698  105.824583  \n",
       "1   Phường Trung Liệt  Quận Đống Đa  Thành phố Hà Nội  21.008930  105.824105  \n",
       "2   Phường Khâm Thiên  Quận Đống Đa  Thành phố Hà Nội  21.025208  105.833111  \n",
       "3  Phường Láng Thượng  Quận Đống Đa  Thành phố Hà Nội  21.025379  105.801011  \n",
       "4   Phường Trung Liệt  Quận Đống Đa  Thành phố Hà Nội  21.009239  105.824230  "
      ]
     },
     "execution_count": 2,
     "metadata": {},
     "output_type": "execute_result"
    }
   ],
   "source": [
    "df = pd.read_excel(\"https://s3.ap-southeast-1.amazonaws.com/learn.codegym.vn/media/public/2022/01/08185826/house_price_do%CC%82%CC%81ng-da.xlsx\")\n",
    "df.head()"
   ]
  },
  {
   "cell_type": "code",
   "execution_count": 3,
   "id": "21973ae8-47b2-4ef1-9885-b2a6daa956d0",
   "metadata": {},
   "outputs": [
    {
     "name": "stdout",
     "output_type": "stream",
     "text": [
      "<class 'pandas.core.frame.DataFrame'>\n",
      "RangeIndex: 1000 entries, 0 to 999\n",
      "Data columns (total 18 columns):\n",
      " #   Column             Non-Null Count  Dtype         \n",
      "---  ------             --------------  -----         \n",
      " 0   title              1000 non-null   object        \n",
      " 1   address            1000 non-null   object        \n",
      " 2   area               994 non-null    float64       \n",
      " 3   price              944 non-null    float64       \n",
      " 4   postDate           1000 non-null   datetime64[ns]\n",
      " 5   land_certificate   693 non-null    object        \n",
      " 6   house_direction    44 non-null     object        \n",
      " 7   balcony_direction  24 non-null     object        \n",
      " 8   toilet             551 non-null    float64       \n",
      " 9   bedroom            635 non-null    float64       \n",
      " 10  floor              376 non-null    float64       \n",
      " 11  type_of_land       1000 non-null   object        \n",
      " 12  street_name        808 non-null    object        \n",
      " 13  ward_name          802 non-null    object        \n",
      " 14  district_name      1000 non-null   object        \n",
      " 15  city_name          1000 non-null   object        \n",
      " 16  lat                1000 non-null   float64       \n",
      " 17  long               1000 non-null   float64       \n",
      "dtypes: datetime64[ns](1), float64(7), object(10)\n",
      "memory usage: 140.8+ KB\n"
     ]
    }
   ],
   "source": [
    "df.info()"
   ]
  },
  {
   "cell_type": "markdown",
   "id": "791b9df3-a4c8-4cf5-9278-014b6fdb4b98",
   "metadata": {
    "tags": []
   },
   "source": [
    "# 2. Xử lý giá trị khuyết thiếu và giá trị ngoại lai"
   ]
  },
  {
   "cell_type": "markdown",
   "id": "9523f642-2dab-49cb-9c13-2e9d4fed4f38",
   "metadata": {},
   "source": [
    "2.1. Xử lý giá trị khuyết thiếu"
   ]
  },
  {
   "cell_type": "code",
   "execution_count": 4,
   "id": "61e421d9-7353-43d6-8316-89682dbd479f",
   "metadata": {},
   "outputs": [
    {
     "data": {
      "text/html": [
       "<div>\n",
       "<style scoped>\n",
       "    .dataframe tbody tr th:only-of-type {\n",
       "        vertical-align: middle;\n",
       "    }\n",
       "\n",
       "    .dataframe tbody tr th {\n",
       "        vertical-align: top;\n",
       "    }\n",
       "\n",
       "    .dataframe thead th {\n",
       "        text-align: right;\n",
       "    }\n",
       "</style>\n",
       "<table border=\"1\" class=\"dataframe\">\n",
       "  <thead>\n",
       "    <tr style=\"text-align: right;\">\n",
       "      <th></th>\n",
       "      <th>title</th>\n",
       "      <th>address</th>\n",
       "      <th>area</th>\n",
       "      <th>price</th>\n",
       "      <th>postDate</th>\n",
       "      <th>land_certificate</th>\n",
       "      <th>house_direction</th>\n",
       "      <th>balcony_direction</th>\n",
       "      <th>toilet</th>\n",
       "      <th>bedroom</th>\n",
       "      <th>floor</th>\n",
       "      <th>type_of_land</th>\n",
       "      <th>street_name</th>\n",
       "      <th>ward_name</th>\n",
       "      <th>district_name</th>\n",
       "      <th>city_name</th>\n",
       "      <th>lat</th>\n",
       "      <th>long</th>\n",
       "    </tr>\n",
       "  </thead>\n",
       "  <tbody>\n",
       "    <tr>\n",
       "      <th>0</th>\n",
       "      <td>Bán nhà Trần Quang Diệu mới coong đẹp 50m2x6 t...</td>\n",
       "      <td>Đường Trần Quang Diệu, Phường Trung Liệt, Đốn...</td>\n",
       "      <td>50.0</td>\n",
       "      <td>14700.0</td>\n",
       "      <td>2021-01-01</td>\n",
       "      <td>Sổ đỏ</td>\n",
       "      <td>NaN</td>\n",
       "      <td>NaN</td>\n",
       "      <td>4.0</td>\n",
       "      <td>6.0</td>\n",
       "      <td>6.0</td>\n",
       "      <td>Bán nhà riêng\\n</td>\n",
       "      <td>Đường Trần Quang Diệu</td>\n",
       "      <td>Phường Trung Liệt</td>\n",
       "      <td>Quận Đống Đa</td>\n",
       "      <td>Thành phố Hà Nội</td>\n",
       "      <td>21.015698</td>\n",
       "      <td>105.824583</td>\n",
       "    </tr>\n",
       "    <tr>\n",
       "      <th>1</th>\n",
       "      <td>Bán nhà mặt phố Tây Sơn - 6 tầng. Kinh doanh t...</td>\n",
       "      <td>Đường Tây Sơn, Phường Trung Liệt, Đống Đa, Hà...</td>\n",
       "      <td>35.0</td>\n",
       "      <td>12500.0</td>\n",
       "      <td>2021-02-19</td>\n",
       "      <td>Sổ đỏ</td>\n",
       "      <td>NaN</td>\n",
       "      <td>NaN</td>\n",
       "      <td>NaN</td>\n",
       "      <td>NaN</td>\n",
       "      <td>6.0</td>\n",
       "      <td>Bán nhà mặt phố\\n</td>\n",
       "      <td>Phố Trung Liệt</td>\n",
       "      <td>Phường Trung Liệt</td>\n",
       "      <td>Quận Đống Đa</td>\n",
       "      <td>Thành phố Hà Nội</td>\n",
       "      <td>21.008930</td>\n",
       "      <td>105.824105</td>\n",
       "    </tr>\n",
       "    <tr>\n",
       "      <th>2</th>\n",
       "      <td>Bán nhà số 36 Đoàn Kết - phố Khâm Thiên - Đống...</td>\n",
       "      <td>Số 36 Đoàn Kết, Phố Khâm Thiên, Phường Thổ Qu...</td>\n",
       "      <td>57.0</td>\n",
       "      <td>4200.0</td>\n",
       "      <td>2021-03-10</td>\n",
       "      <td>Sổ đỏ</td>\n",
       "      <td>Nam</td>\n",
       "      <td>Nam</td>\n",
       "      <td>3.0</td>\n",
       "      <td>8.0</td>\n",
       "      <td>4.0</td>\n",
       "      <td>Bán nhà riêng\\n</td>\n",
       "      <td>Phố Khâm Thiên</td>\n",
       "      <td>Phường Khâm Thiên</td>\n",
       "      <td>Quận Đống Đa</td>\n",
       "      <td>Thành phố Hà Nội</td>\n",
       "      <td>21.025208</td>\n",
       "      <td>105.833111</td>\n",
       "    </tr>\n",
       "    <tr>\n",
       "      <th>3</th>\n",
       "      <td>Bán nhà 6 tầng mới kinh doanh mặt ngõ 1194 Đườ...</td>\n",
       "      <td>Ngõ 1194, Đường Láng, Phường Láng Thượng, Đố...</td>\n",
       "      <td>62.0</td>\n",
       "      <td>11000.0</td>\n",
       "      <td>2021-03-13</td>\n",
       "      <td>Sổ đỏ</td>\n",
       "      <td>Đông</td>\n",
       "      <td>Đông-Nam</td>\n",
       "      <td>6.0</td>\n",
       "      <td>5.0</td>\n",
       "      <td>6.0</td>\n",
       "      <td>Bán nhà riêng\\n</td>\n",
       "      <td>Đường Láng Thượng</td>\n",
       "      <td>Phường Láng Thượng</td>\n",
       "      <td>Quận Đống Đa</td>\n",
       "      <td>Thành phố Hà Nội</td>\n",
       "      <td>21.025379</td>\n",
       "      <td>105.801011</td>\n",
       "    </tr>\n",
       "    <tr>\n",
       "      <th>4</th>\n",
       "      <td>Bán nhà mặt phố Thái Hà 70m2, 5 tầng, 4.5m mặt...</td>\n",
       "      <td>Phố Thái Hà, Phường Trung Liệt, Đống Đa, Hà Nội</td>\n",
       "      <td>70.0</td>\n",
       "      <td>36000.0</td>\n",
       "      <td>2021-03-13</td>\n",
       "      <td>Sổ đỏ</td>\n",
       "      <td>NaN</td>\n",
       "      <td>NaN</td>\n",
       "      <td>NaN</td>\n",
       "      <td>6.0</td>\n",
       "      <td>5.0</td>\n",
       "      <td>Bán nhà mặt phố\\n</td>\n",
       "      <td>Phố Trung Liệt</td>\n",
       "      <td>Phường Trung Liệt</td>\n",
       "      <td>Quận Đống Đa</td>\n",
       "      <td>Thành phố Hà Nội</td>\n",
       "      <td>21.009239</td>\n",
       "      <td>105.824230</td>\n",
       "    </tr>\n",
       "  </tbody>\n",
       "</table>\n",
       "</div>"
      ],
      "text/plain": [
       "                                               title  \\\n",
       "0  Bán nhà Trần Quang Diệu mới coong đẹp 50m2x6 t...   \n",
       "1  Bán nhà mặt phố Tây Sơn - 6 tầng. Kinh doanh t...   \n",
       "2  Bán nhà số 36 Đoàn Kết - phố Khâm Thiên - Đống...   \n",
       "3  Bán nhà 6 tầng mới kinh doanh mặt ngõ 1194 Đườ...   \n",
       "4  Bán nhà mặt phố Thái Hà 70m2, 5 tầng, 4.5m mặt...   \n",
       "\n",
       "                                             address  area    price  \\\n",
       "0  Đường Trần Quang Diệu, Phường Trung Liệt, Đốn...  50.0  14700.0   \n",
       "1  Đường Tây Sơn, Phường Trung Liệt, Đống Đa, Hà...  35.0  12500.0   \n",
       "2  Số 36 Đoàn Kết, Phố Khâm Thiên, Phường Thổ Qu...  57.0   4200.0   \n",
       "3  Ngõ 1194, Đường Láng, Phường Láng Thượng, Đố...  62.0  11000.0   \n",
       "4   Phố Thái Hà, Phường Trung Liệt, Đống Đa, Hà Nội  70.0  36000.0   \n",
       "\n",
       "    postDate land_certificate house_direction balcony_direction  toilet  \\\n",
       "0 2021-01-01            Sổ đỏ             NaN               NaN     4.0   \n",
       "1 2021-02-19            Sổ đỏ             NaN               NaN     NaN   \n",
       "2 2021-03-10            Sổ đỏ             Nam               Nam     3.0   \n",
       "3 2021-03-13            Sổ đỏ            Đông          Đông-Nam     6.0   \n",
       "4 2021-03-13            Sổ đỏ             NaN               NaN     NaN   \n",
       "\n",
       "   bedroom  floor        type_of_land            street_name  \\\n",
       "0      6.0    6.0    Bán nhà riêng\\n   Đường Trần Quang Diệu   \n",
       "1      NaN    6.0  Bán nhà mặt phố\\n          Phố Trung Liệt   \n",
       "2      8.0    4.0    Bán nhà riêng\\n          Phố Khâm Thiên   \n",
       "3      5.0    6.0    Bán nhà riêng\\n       Đường Láng Thượng   \n",
       "4      6.0    5.0  Bán nhà mặt phố\\n          Phố Trung Liệt   \n",
       "\n",
       "            ward_name district_name         city_name        lat        long  \n",
       "0   Phường Trung Liệt  Quận Đống Đa  Thành phố Hà Nội  21.015698  105.824583  \n",
       "1   Phường Trung Liệt  Quận Đống Đa  Thành phố Hà Nội  21.008930  105.824105  \n",
       "2   Phường Khâm Thiên  Quận Đống Đa  Thành phố Hà Nội  21.025208  105.833111  \n",
       "3  Phường Láng Thượng  Quận Đống Đa  Thành phố Hà Nội  21.025379  105.801011  \n",
       "4   Phường Trung Liệt  Quận Đống Đa  Thành phố Hà Nội  21.009239  105.824230  "
      ]
     },
     "execution_count": 4,
     "metadata": {},
     "output_type": "execute_result"
    }
   ],
   "source": [
    "# Lọc các dữ liệu cần thiết của cột \"area\", \"price\", \"bedroom\", \"toilet\", \"type_of_land\"\n",
    "df1 = df.loc[:, [\"area\", \"price\", \"bedroom\", \"toilet\", \"type_of_land\"]]\n",
    "df.head()"
   ]
  },
  {
   "cell_type": "code",
   "execution_count": 5,
   "id": "201f6d89-ac4f-4606-8089-cd309839d4bf",
   "metadata": {},
   "outputs": [
    {
     "name": "stdout",
     "output_type": "stream",
     "text": [
      "<class 'pandas.core.frame.DataFrame'>\n",
      "RangeIndex: 1000 entries, 0 to 999\n",
      "Data columns (total 5 columns):\n",
      " #   Column        Non-Null Count  Dtype  \n",
      "---  ------        --------------  -----  \n",
      " 0   area          994 non-null    float64\n",
      " 1   price         944 non-null    float64\n",
      " 2   bedroom       635 non-null    float64\n",
      " 3   toilet        551 non-null    float64\n",
      " 4   type_of_land  1000 non-null   object \n",
      "dtypes: float64(4), object(1)\n",
      "memory usage: 39.2+ KB\n"
     ]
    }
   ],
   "source": [
    "df1.info()"
   ]
  },
  {
   "cell_type": "code",
   "execution_count": 6,
   "id": "73e16993-a762-4479-9010-7a7d55b46ee3",
   "metadata": {},
   "outputs": [],
   "source": [
    "# Xoá các dòng dữ liệu không có dữ liệu area và price\n",
    "df1.dropna(subset = [\"area\", \"price\"], inplace = True)"
   ]
  },
  {
   "cell_type": "code",
   "execution_count": 7,
   "id": "515cc395-feb1-449a-838c-ae2e96c4cadf",
   "metadata": {},
   "outputs": [],
   "source": [
    "# Thay thế giá trị khuyết thiếu bằng giá trị nội suy theo các cột\n",
    "df1 = df1.interpolate(method = \"linear\", axis = 0).ffill().bfill()\n",
    "df1 = df1.round(0)"
   ]
  },
  {
   "cell_type": "code",
   "execution_count": 8,
   "id": "18626887-9c85-4a8d-9460-b73e07038ecd",
   "metadata": {},
   "outputs": [
    {
     "data": {
      "text/plain": [
       "array(['Bán nhà riêng', 'Bán nhà mặt phố', 'Tập thể, cư xá', 'Chung cư',\n",
       "       'Bất động sản khác', 'Đất thổ cư'], dtype=object)"
      ]
     },
     "execution_count": 8,
     "metadata": {},
     "output_type": "execute_result"
    }
   ],
   "source": [
    "df1[\"type_of_land\"].replace('Bán nhà riêng\\n ', 'Bán nhà riêng', inplace = True)\n",
    "df1[\"type_of_land\"].replace('Bán nhà mặt phố\\n ', 'Bán nhà mặt phố', inplace = True)\n",
    "df1[\"type_of_land\"].replace('Bất động sản khác\\n ', 'Bất động sản khác', inplace = True)\n",
    "df1[\"type_of_land\"].unique()"
   ]
  },
  {
   "cell_type": "code",
   "execution_count": 9,
   "id": "33128985-5434-4f68-8203-d1b3fbfc9d94",
   "metadata": {},
   "outputs": [
    {
     "name": "stdout",
     "output_type": "stream",
     "text": [
      "<class 'pandas.core.frame.DataFrame'>\n",
      "Int64Index: 942 entries, 0 to 999\n",
      "Data columns (total 5 columns):\n",
      " #   Column        Non-Null Count  Dtype  \n",
      "---  ------        --------------  -----  \n",
      " 0   area          942 non-null    float64\n",
      " 1   price         942 non-null    float64\n",
      " 2   bedroom       942 non-null    float64\n",
      " 3   toilet        942 non-null    float64\n",
      " 4   type_of_land  942 non-null    object \n",
      "dtypes: float64(4), object(1)\n",
      "memory usage: 44.2+ KB\n"
     ]
    }
   ],
   "source": [
    "df1.info()"
   ]
  },
  {
   "cell_type": "markdown",
   "id": "8861e10f-84dd-41cc-b5d8-b8c23f3d3e2c",
   "metadata": {},
   "source": [
    "2.2. Xử lý giá trị ngoại lai theo phương pháp Z-Score"
   ]
  },
  {
   "cell_type": "code",
   "execution_count": 10,
   "id": "2367b459-cb9d-4e34-b574-39106d9d5b02",
   "metadata": {},
   "outputs": [],
   "source": [
    "# Xoá các dòng có dữ liệu area bằng 0\n",
    "df1 = df1[df1.area > 0]\n",
    "df1.reset_index(drop=True, inplace=True)"
   ]
  },
  {
   "cell_type": "code",
   "execution_count": 11,
   "id": "49e83ac1-6649-4040-aeb5-5aeceba629a9",
   "metadata": {},
   "outputs": [],
   "source": [
    "z = np.abs(stats.zscore(df1.area))"
   ]
  },
  {
   "cell_type": "code",
   "execution_count": 12,
   "id": "6f943a27-402a-4de2-91b9-0ee73c18a78f",
   "metadata": {},
   "outputs": [],
   "source": [
    "threshold = 1.0\n",
    "index = np.where((z > 2 * z.min()) & (z < threshold))"
   ]
  },
  {
   "cell_type": "code",
   "execution_count": 13,
   "id": "3ea25f40-63c8-49b4-9c3a-aad8b076e059",
   "metadata": {},
   "outputs": [],
   "source": [
    "df2 = df1.loc[index[0], :]"
   ]
  },
  {
   "cell_type": "code",
   "execution_count": 14,
   "id": "4df1c0ed-7fbf-4b39-a9c9-adebae5d3818",
   "metadata": {},
   "outputs": [
    {
     "name": "stdout",
     "output_type": "stream",
     "text": [
      "<class 'pandas.core.frame.DataFrame'>\n",
      "Int64Index: 912 entries, 0 to 925\n",
      "Data columns (total 5 columns):\n",
      " #   Column        Non-Null Count  Dtype  \n",
      "---  ------        --------------  -----  \n",
      " 0   area          912 non-null    float64\n",
      " 1   price         912 non-null    float64\n",
      " 2   bedroom       912 non-null    float64\n",
      " 3   toilet        912 non-null    float64\n",
      " 4   type_of_land  912 non-null    object \n",
      "dtypes: float64(4), object(1)\n",
      "memory usage: 42.8+ KB\n"
     ]
    }
   ],
   "source": [
    "df2.info()"
   ]
  },
  {
   "cell_type": "code",
   "execution_count": 15,
   "id": "e5e63cc6-24ef-4660-afa7-3ff3ec6a6068",
   "metadata": {},
   "outputs": [
    {
     "data": {
      "text/plain": [
       "6.0"
      ]
     },
     "execution_count": 15,
     "metadata": {},
     "output_type": "execute_result"
    }
   ],
   "source": [
    "df2.area.min()"
   ]
  },
  {
   "cell_type": "markdown",
   "id": "66c3ee26-372f-436c-b005-445bfbab2f6a",
   "metadata": {},
   "source": [
    "# 3. Vẽ biểu đồ phân tích mối liên hệ giữa diện tích với giá nhà, giữa số phòng ngủ với giá nhà, giữa số toilet với giá nhà."
   ]
  },
  {
   "cell_type": "code",
   "execution_count": 16,
   "id": "10f88860-fa27-49e6-924e-95924d58e462",
   "metadata": {},
   "outputs": [
    {
     "data": {
      "image/png": "[encoded data removed]",
      "text/plain": [
       "<Figure size 1800x800 with 1 Axes>"
      ]
     },
     "metadata": {
      "needs_background": "light"
     },
     "output_type": "display_data"
    }
   ],
   "source": [
    "# Vẽ biểu đồ phân tích mối liên hệ giữa diện tích với giá nhà\n",
    "x = df2.area\n",
    "y = df2.price\n",
    "plt.figure(figsize = (18, 8), dpi = 100)\n",
    "plt.scatter(x, y)\n",
    "plt.title(\"Mối quan hệ giữa giá nhà và diện tích nhà\")\n",
    "plt.xlabel(\"Diện tích (m2)\")\n",
    "plt.ylabel(\"Giá nhà (triệu VND)\")\n",
    "plt.show()"
   ]
  },
  {
   "cell_type": "code",
   "execution_count": 17,
   "id": "44c9a9e5-4481-471d-9e90-457f75cf2ae5",
   "metadata": {},
   "outputs": [
    {
     "data": {
      "image/png": "[encoded data removed]",
      "text/plain": [
       "<Figure size 1800x800 with 1 Axes>"
      ]
     },
     "metadata": {
      "needs_background": "light"
     },
     "output_type": "display_data"
    }
   ],
   "source": [
    "# Vẽ biểu đồ phân tích mối liên hệ giữa số lượng phòng ngủ với giá nhà\n",
    "x = df2.bedroom\n",
    "y = df2.price\n",
    "plt.figure(figsize = (18, 8), dpi = 100)\n",
    "plt.scatter(x, y)\n",
    "plt.title(\"Mối quan hệ giữa giá nhà và số lượng phòng ngủ\")\n",
    "plt.xlabel(\"Số lượng phòng ngủ\")\n",
    "plt.ylabel(\"Giá nhà (triệu VND)\")\n",
    "plt.show()"
   ]
  },
  {
   "cell_type": "code",
   "execution_count": 18,
   "id": "c0ac7db0-b2a5-4170-93e3-f3815e4bb8b5",
   "metadata": {},
   "outputs": [
    {
     "data": {
      "image/png": "[encoded data removed]",
      "text/plain": [
       "<Figure size 1800x800 with 1 Axes>"
      ]
     },
     "metadata": {
      "needs_background": "light"
     },
     "output_type": "display_data"
    }
   ],
   "source": [
    "# Vẽ biểu đồ phân tích mối liên hệ giữa số lượng toilet với giá nhà\n",
    "x = df2.toilet\n",
    "y = df2.price\n",
    "plt.figure(figsize = (18, 8), dpi = 100)\n",
    "plt.scatter(x, y)\n",
    "plt.title(\"Mối quan hệ giữa giá nhà và số lượng toilet\")\n",
    "plt.xlabel(\"Số lượng toilet\")\n",
    "plt.ylabel(\"Giá nhà (triệu VND)\")\n",
    "plt.show()"
   ]
  },
  {
   "cell_type": "markdown",
   "id": "afee59ff-c7a4-4478-960f-ed30eebd886b",
   "metadata": {},
   "source": [
    "# 4. Vẽ biểu đồ so sánh giá nhà trung bình trên 1 m2 giữa các hình thức nhà (type_of_land)"
   ]
  },
  {
   "cell_type": "code",
   "execution_count": 19,
   "id": "d667d3bc-f30c-42fb-89de-637cae75521e",
   "metadata": {},
   "outputs": [
    {
     "name": "stdout",
     "output_type": "stream",
     "text": [
      "<class 'pandas.core.frame.DataFrame'>\n",
      "Int64Index: 912 entries, 0 to 925\n",
      "Data columns (total 5 columns):\n",
      " #   Column        Non-Null Count  Dtype  \n",
      "---  ------        --------------  -----  \n",
      " 0   area          912 non-null    float64\n",
      " 1   price         912 non-null    float64\n",
      " 2   bedroom       912 non-null    float64\n",
      " 3   toilet        912 non-null    float64\n",
      " 4   type_of_land  912 non-null    object \n",
      "dtypes: float64(4), object(1)\n",
      "memory usage: 42.8+ KB\n"
     ]
    }
   ],
   "source": [
    "df2.info()"
   ]
  },
  {
   "cell_type": "code",
   "execution_count": 20,
   "id": "ae1500b5-3c7e-4756-9a4c-79da17efaf17",
   "metadata": {},
   "outputs": [],
   "source": [
    "df2[\"UnitPrice\"] = df2.price / df2.area"
   ]
  },
  {
   "cell_type": "code",
   "execution_count": 21,
   "id": "3645b481-68c1-4273-9934-ee8391f69f93",
   "metadata": {},
   "outputs": [
    {
     "name": "stdout",
     "output_type": "stream",
     "text": [
      "<class 'pandas.core.frame.DataFrame'>\n",
      "Int64Index: 912 entries, 0 to 925\n",
      "Data columns (total 6 columns):\n",
      " #   Column        Non-Null Count  Dtype  \n",
      "---  ------        --------------  -----  \n",
      " 0   area          912 non-null    float64\n",
      " 1   price         912 non-null    float64\n",
      " 2   bedroom       912 non-null    float64\n",
      " 3   toilet        912 non-null    float64\n",
      " 4   type_of_land  912 non-null    object \n",
      " 5   UnitPrice     912 non-null    float64\n",
      "dtypes: float64(5), object(1)\n",
      "memory usage: 49.9+ KB\n"
     ]
    }
   ],
   "source": [
    "df2.info()"
   ]
  },
  {
   "cell_type": "code",
   "execution_count": 22,
   "id": "5891b754-dfc9-4123-bdd0-b9fb702d5b23",
   "metadata": {},
   "outputs": [
    {
     "name": "stdout",
     "output_type": "stream",
     "text": [
      "<class 'pandas.core.frame.DataFrame'>\n",
      "Int64Index: 912 entries, 0 to 925\n",
      "Data columns (total 6 columns):\n",
      " #   Column        Non-Null Count  Dtype  \n",
      "---  ------        --------------  -----  \n",
      " 0   area          912 non-null    float64\n",
      " 1   price         912 non-null    float64\n",
      " 2   bedroom       912 non-null    float64\n",
      " 3   toilet        912 non-null    float64\n",
      " 4   type_of_land  912 non-null    object \n",
      " 5   UnitPrice     912 non-null    float64\n",
      "dtypes: float64(5), object(1)\n",
      "memory usage: 49.9+ KB\n"
     ]
    }
   ],
   "source": [
    "df2.info()"
   ]
  },
  {
   "cell_type": "code",
   "execution_count": 23,
   "id": "5cf307f5-2c17-4ab0-9d0a-aa1c4bf4cf6e",
   "metadata": {},
   "outputs": [],
   "source": [
    "df3 = df2.groupby(df2.type_of_land).mean()"
   ]
  },
  {
   "cell_type": "code",
   "execution_count": 24,
   "id": "4b57edc5-9478-4afa-a95e-a014a4c80f2f",
   "metadata": {},
   "outputs": [
    {
     "data": {
      "text/html": [
       "<div>\n",
       "<style scoped>\n",
       "    .dataframe tbody tr th:only-of-type {\n",
       "        vertical-align: middle;\n",
       "    }\n",
       "\n",
       "    .dataframe tbody tr th {\n",
       "        vertical-align: top;\n",
       "    }\n",
       "\n",
       "    .dataframe thead th {\n",
       "        text-align: right;\n",
       "    }\n",
       "</style>\n",
       "<table border=\"1\" class=\"dataframe\">\n",
       "  <thead>\n",
       "    <tr style=\"text-align: right;\">\n",
       "      <th></th>\n",
       "      <th>area</th>\n",
       "      <th>price</th>\n",
       "      <th>bedroom</th>\n",
       "      <th>toilet</th>\n",
       "      <th>UnitPrice</th>\n",
       "    </tr>\n",
       "    <tr>\n",
       "      <th>type_of_land</th>\n",
       "      <th></th>\n",
       "      <th></th>\n",
       "      <th></th>\n",
       "      <th></th>\n",
       "      <th></th>\n",
       "    </tr>\n",
       "  </thead>\n",
       "  <tbody>\n",
       "    <tr>\n",
       "      <th>Bán nhà mặt phố</th>\n",
       "      <td>110.333333</td>\n",
       "      <td>41057.587963</td>\n",
       "      <td>4.550926</td>\n",
       "      <td>4.541667</td>\n",
       "      <td>356.538095</td>\n",
       "    </tr>\n",
       "    <tr>\n",
       "      <th>Bán nhà riêng</th>\n",
       "      <td>101.412523</td>\n",
       "      <td>8275.114180</td>\n",
       "      <td>3.998158</td>\n",
       "      <td>4.027624</td>\n",
       "      <td>120.288530</td>\n",
       "    </tr>\n",
       "    <tr>\n",
       "      <th>Bất động sản khác</th>\n",
       "      <td>137.611111</td>\n",
       "      <td>22265.000000</td>\n",
       "      <td>4.500000</td>\n",
       "      <td>4.333333</td>\n",
       "      <td>209.912825</td>\n",
       "    </tr>\n",
       "    <tr>\n",
       "      <th>Chung cư</th>\n",
       "      <td>61.655172</td>\n",
       "      <td>1950.000000</td>\n",
       "      <td>1.827586</td>\n",
       "      <td>1.431034</td>\n",
       "      <td>26.623608</td>\n",
       "    </tr>\n",
       "    <tr>\n",
       "      <th>Tập thể, cư xá</th>\n",
       "      <td>66.101449</td>\n",
       "      <td>2094.637681</td>\n",
       "      <td>2.043478</td>\n",
       "      <td>1.420290</td>\n",
       "      <td>33.353309</td>\n",
       "    </tr>\n",
       "    <tr>\n",
       "      <th>Đất thổ cư</th>\n",
       "      <td>80.750000</td>\n",
       "      <td>10585.000000</td>\n",
       "      <td>4.125000</td>\n",
       "      <td>3.625000</td>\n",
       "      <td>133.153612</td>\n",
       "    </tr>\n",
       "  </tbody>\n",
       "</table>\n",
       "</div>"
      ],
      "text/plain": [
       "                         area         price   bedroom    toilet   UnitPrice\n",
       "type_of_land                                                               \n",
       "Bán nhà mặt phố    110.333333  41057.587963  4.550926  4.541667  356.538095\n",
       "Bán nhà riêng      101.412523   8275.114180  3.998158  4.027624  120.288530\n",
       "Bất động sản khác  137.611111  22265.000000  4.500000  4.333333  209.912825\n",
       "Chung cư            61.655172   1950.000000  1.827586  1.431034   26.623608\n",
       "Tập thể, cư xá      66.101449   2094.637681  2.043478  1.420290   33.353309\n",
       "Đất thổ cư          80.750000  10585.000000  4.125000  3.625000  133.153612"
      ]
     },
     "execution_count": 24,
     "metadata": {},
     "output_type": "execute_result"
    }
   ],
   "source": [
    "df3"
   ]
  },
  {
   "cell_type": "code",
   "execution_count": 25,
   "id": "4e079f53-f8fb-43ed-8d1a-da3af36cfaec",
   "metadata": {},
   "outputs": [
    {
     "data": {
      "image/png": "[encoded data removed]",
      "text/plain": [
       "<Figure size 1800x800 with 1 Axes>"
      ]
     },
     "metadata": {
      "needs_background": "light"
     },
     "output_type": "display_data"
    }
   ],
   "source": [
    "plt.figure(figsize = (18,8), dpi = 100)\n",
    "plt.bar(df3.index.get_level_values(0), df3.UnitPrice, width = 0.5)\n",
    "plt.title(\"Biểu đồ so sánh giá nhà trung bình trên m2 giữa các hình thức nhà\")\n",
    "plt.xlabel(\"Hình thức nhà\")\n",
    "plt.ylabel(\"Giá nhà trung bình trên m2\")\n",
    "plt.show()"
   ]
  },
  {
   "cell_type": "markdown",
   "id": "2f1681ea-f336-468b-a779-2b7956da6ecd",
   "metadata": {},
   "source": [
    "# 5. Vẽ biểu đồ thể hiện tỉ lệ % bài đăng (bản ghi) giữa các hình thức nhà (type_of_land)"
   ]
  },
  {
   "cell_type": "code",
   "execution_count": 26,
   "id": "c1a99a1e-734f-4e3a-ae46-be49348fc514",
   "metadata": {},
   "outputs": [
    {
     "name": "stdout",
     "output_type": "stream",
     "text": [
      "<class 'pandas.core.frame.DataFrame'>\n",
      "Int64Index: 912 entries, 0 to 925\n",
      "Data columns (total 6 columns):\n",
      " #   Column        Non-Null Count  Dtype  \n",
      "---  ------        --------------  -----  \n",
      " 0   area          912 non-null    float64\n",
      " 1   price         912 non-null    float64\n",
      " 2   bedroom       912 non-null    float64\n",
      " 3   toilet        912 non-null    float64\n",
      " 4   type_of_land  912 non-null    object \n",
      " 5   UnitPrice     912 non-null    float64\n",
      "dtypes: float64(5), object(1)\n",
      "memory usage: 49.9+ KB\n"
     ]
    }
   ],
   "source": [
    "df2.info()"
   ]
  },
  {
   "cell_type": "code",
   "execution_count": 27,
   "id": "5bd68d6f-e0b4-428a-a491-bb974a32c63a",
   "metadata": {},
   "outputs": [
    {
     "data": {
      "text/html": [
       "<div>\n",
       "<style scoped>\n",
       "    .dataframe tbody tr th:only-of-type {\n",
       "        vertical-align: middle;\n",
       "    }\n",
       "\n",
       "    .dataframe tbody tr th {\n",
       "        vertical-align: top;\n",
       "    }\n",
       "\n",
       "    .dataframe thead th {\n",
       "        text-align: right;\n",
       "    }\n",
       "</style>\n",
       "<table border=\"1\" class=\"dataframe\">\n",
       "  <thead>\n",
       "    <tr style=\"text-align: right;\">\n",
       "      <th></th>\n",
       "      <th>area</th>\n",
       "      <th>price</th>\n",
       "      <th>bedroom</th>\n",
       "      <th>toilet</th>\n",
       "      <th>UnitPrice</th>\n",
       "    </tr>\n",
       "    <tr>\n",
       "      <th>type_of_land</th>\n",
       "      <th></th>\n",
       "      <th></th>\n",
       "      <th></th>\n",
       "      <th></th>\n",
       "      <th></th>\n",
       "    </tr>\n",
       "  </thead>\n",
       "  <tbody>\n",
       "    <tr>\n",
       "      <th>Bán nhà mặt phố</th>\n",
       "      <td>216</td>\n",
       "      <td>216</td>\n",
       "      <td>216</td>\n",
       "      <td>216</td>\n",
       "      <td>216</td>\n",
       "    </tr>\n",
       "    <tr>\n",
       "      <th>Bán nhà riêng</th>\n",
       "      <td>543</td>\n",
       "      <td>543</td>\n",
       "      <td>543</td>\n",
       "      <td>543</td>\n",
       "      <td>543</td>\n",
       "    </tr>\n",
       "    <tr>\n",
       "      <th>Bất động sản khác</th>\n",
       "      <td>18</td>\n",
       "      <td>18</td>\n",
       "      <td>18</td>\n",
       "      <td>18</td>\n",
       "      <td>18</td>\n",
       "    </tr>\n",
       "    <tr>\n",
       "      <th>Chung cư</th>\n",
       "      <td>58</td>\n",
       "      <td>58</td>\n",
       "      <td>58</td>\n",
       "      <td>58</td>\n",
       "      <td>58</td>\n",
       "    </tr>\n",
       "    <tr>\n",
       "      <th>Tập thể, cư xá</th>\n",
       "      <td>69</td>\n",
       "      <td>69</td>\n",
       "      <td>69</td>\n",
       "      <td>69</td>\n",
       "      <td>69</td>\n",
       "    </tr>\n",
       "    <tr>\n",
       "      <th>Đất thổ cư</th>\n",
       "      <td>8</td>\n",
       "      <td>8</td>\n",
       "      <td>8</td>\n",
       "      <td>8</td>\n",
       "      <td>8</td>\n",
       "    </tr>\n",
       "  </tbody>\n",
       "</table>\n",
       "</div>"
      ],
      "text/plain": [
       "                   area  price  bedroom  toilet  UnitPrice\n",
       "type_of_land                                              \n",
       "Bán nhà mặt phố     216    216      216     216        216\n",
       "Bán nhà riêng       543    543      543     543        543\n",
       "Bất động sản khác    18     18       18      18         18\n",
       "Chung cư             58     58       58      58         58\n",
       "Tập thể, cư xá       69     69       69      69         69\n",
       "Đất thổ cư            8      8        8       8          8"
      ]
     },
     "execution_count": 27,
     "metadata": {},
     "output_type": "execute_result"
    }
   ],
   "source": [
    "df4 = df2.groupby(df2.type_of_land).count()\n",
    "df4"
   ]
  },
  {
   "cell_type": "code",
   "execution_count": 28,
   "id": "979906ea-345b-4360-aaa6-364fc6188192",
   "metadata": {},
   "outputs": [
    {
     "data": {
      "image/png": "[encoded data removed]",
      "text/plain": [
       "<Figure size 432x288 with 1 Axes>"
      ]
     },
     "metadata": {},
     "output_type": "display_data"
    }
   ],
   "source": [
    "# Vẽ biểu đồ hình quạt\n",
    "plt.pie(df4.area, labels = df4.index.get_level_values(0), autopct='%.1f%%')\n",
    "plt.show()"
   ]
  },
  {
   "cell_type": "markdown",
   "id": "a1abb013-26b9-407d-bd8c-a7e6342e8171",
   "metadata": {},
   "source": [
    "# 6. Vẽ biểu đồ thể hiện sự thay đổi giá nhà trung bình trên 1m2 theo số lượng phòng ngủ"
   ]
  },
  {
   "cell_type": "code",
   "execution_count": 29,
   "id": "9835fdb3-9b4e-4252-862e-398c5a1c1dc5",
   "metadata": {},
   "outputs": [
    {
     "name": "stdout",
     "output_type": "stream",
     "text": [
      "<class 'pandas.core.frame.DataFrame'>\n",
      "Int64Index: 912 entries, 0 to 925\n",
      "Data columns (total 6 columns):\n",
      " #   Column        Non-Null Count  Dtype  \n",
      "---  ------        --------------  -----  \n",
      " 0   area          912 non-null    float64\n",
      " 1   price         912 non-null    float64\n",
      " 2   bedroom       912 non-null    float64\n",
      " 3   toilet        912 non-null    float64\n",
      " 4   type_of_land  912 non-null    object \n",
      " 5   UnitPrice     912 non-null    float64\n",
      "dtypes: float64(5), object(1)\n",
      "memory usage: 49.9+ KB\n"
     ]
    }
   ],
   "source": [
    "df2.info()"
   ]
  },
  {
   "cell_type": "code",
   "execution_count": 30,
   "id": "dfcac837-a4eb-4072-bf85-79c94b27ffb8",
   "metadata": {},
   "outputs": [
    {
     "data": {
      "text/html": [
       "<div>\n",
       "<style scoped>\n",
       "    .dataframe tbody tr th:only-of-type {\n",
       "        vertical-align: middle;\n",
       "    }\n",
       "\n",
       "    .dataframe tbody tr th {\n",
       "        vertical-align: top;\n",
       "    }\n",
       "\n",
       "    .dataframe thead th {\n",
       "        text-align: right;\n",
       "    }\n",
       "</style>\n",
       "<table border=\"1\" class=\"dataframe\">\n",
       "  <thead>\n",
       "    <tr style=\"text-align: right;\">\n",
       "      <th></th>\n",
       "      <th>area</th>\n",
       "      <th>price</th>\n",
       "      <th>toilet</th>\n",
       "      <th>UnitPrice</th>\n",
       "    </tr>\n",
       "    <tr>\n",
       "      <th>bedroom</th>\n",
       "      <th></th>\n",
       "      <th></th>\n",
       "      <th></th>\n",
       "      <th></th>\n",
       "    </tr>\n",
       "  </thead>\n",
       "  <tbody>\n",
       "    <tr>\n",
       "      <th>1.0</th>\n",
       "      <td>62.862745</td>\n",
       "      <td>12535.490196</td>\n",
       "      <td>1.254902</td>\n",
       "      <td>91.977271</td>\n",
       "    </tr>\n",
       "    <tr>\n",
       "      <th>2.0</th>\n",
       "      <td>69.481203</td>\n",
       "      <td>9830.203008</td>\n",
       "      <td>1.894737</td>\n",
       "      <td>91.194469</td>\n",
       "    </tr>\n",
       "    <tr>\n",
       "      <th>3.0</th>\n",
       "      <td>82.194539</td>\n",
       "      <td>12118.358362</td>\n",
       "      <td>3.658703</td>\n",
       "      <td>169.792727</td>\n",
       "    </tr>\n",
       "    <tr>\n",
       "      <th>4.0</th>\n",
       "      <td>135.243902</td>\n",
       "      <td>18206.146341</td>\n",
       "      <td>4.063415</td>\n",
       "      <td>151.804414</td>\n",
       "    </tr>\n",
       "    <tr>\n",
       "      <th>5.0</th>\n",
       "      <td>126.433735</td>\n",
       "      <td>22115.662651</td>\n",
       "      <td>4.674699</td>\n",
       "      <td>213.149640</td>\n",
       "    </tr>\n",
       "    <tr>\n",
       "      <th>6.0</th>\n",
       "      <td>96.232558</td>\n",
       "      <td>18796.511628</td>\n",
       "      <td>5.058140</td>\n",
       "      <td>236.680380</td>\n",
       "    </tr>\n",
       "    <tr>\n",
       "      <th>7.0</th>\n",
       "      <td>118.666667</td>\n",
       "      <td>30819.333333</td>\n",
       "      <td>5.000000</td>\n",
       "      <td>239.814481</td>\n",
       "    </tr>\n",
       "    <tr>\n",
       "      <th>8.0</th>\n",
       "      <td>81.388889</td>\n",
       "      <td>23333.333333</td>\n",
       "      <td>5.888889</td>\n",
       "      <td>318.903669</td>\n",
       "    </tr>\n",
       "    <tr>\n",
       "      <th>9.0</th>\n",
       "      <td>133.600000</td>\n",
       "      <td>15620.000000</td>\n",
       "      <td>6.400000</td>\n",
       "      <td>183.317460</td>\n",
       "    </tr>\n",
       "    <tr>\n",
       "      <th>10.0</th>\n",
       "      <td>100.636364</td>\n",
       "      <td>22186.363636</td>\n",
       "      <td>7.090909</td>\n",
       "      <td>252.571033</td>\n",
       "    </tr>\n",
       "    <tr>\n",
       "      <th>11.0</th>\n",
       "      <td>268.500000</td>\n",
       "      <td>10550.000000</td>\n",
       "      <td>11.500000</td>\n",
       "      <td>102.199735</td>\n",
       "    </tr>\n",
       "    <tr>\n",
       "      <th>12.0</th>\n",
       "      <td>72.500000</td>\n",
       "      <td>20550.000000</td>\n",
       "      <td>8.000000</td>\n",
       "      <td>258.676471</td>\n",
       "    </tr>\n",
       "    <tr>\n",
       "      <th>13.0</th>\n",
       "      <td>430.000000</td>\n",
       "      <td>7800.000000</td>\n",
       "      <td>14.000000</td>\n",
       "      <td>18.139535</td>\n",
       "    </tr>\n",
       "    <tr>\n",
       "      <th>14.0</th>\n",
       "      <td>115.000000</td>\n",
       "      <td>30250.000000</td>\n",
       "      <td>10.000000</td>\n",
       "      <td>268.650794</td>\n",
       "    </tr>\n",
       "    <tr>\n",
       "      <th>16.0</th>\n",
       "      <td>55.000000</td>\n",
       "      <td>6100.000000</td>\n",
       "      <td>4.000000</td>\n",
       "      <td>110.909091</td>\n",
       "    </tr>\n",
       "    <tr>\n",
       "      <th>17.0</th>\n",
       "      <td>70.000000</td>\n",
       "      <td>20000.000000</td>\n",
       "      <td>17.000000</td>\n",
       "      <td>285.714286</td>\n",
       "    </tr>\n",
       "    <tr>\n",
       "      <th>22.0</th>\n",
       "      <td>110.000000</td>\n",
       "      <td>41000.000000</td>\n",
       "      <td>4.000000</td>\n",
       "      <td>372.727273</td>\n",
       "    </tr>\n",
       "  </tbody>\n",
       "</table>\n",
       "</div>"
      ],
      "text/plain": [
       "               area         price     toilet   UnitPrice\n",
       "bedroom                                                 \n",
       "1.0       62.862745  12535.490196   1.254902   91.977271\n",
       "2.0       69.481203   9830.203008   1.894737   91.194469\n",
       "3.0       82.194539  12118.358362   3.658703  169.792727\n",
       "4.0      135.243902  18206.146341   4.063415  151.804414\n",
       "5.0      126.433735  22115.662651   4.674699  213.149640\n",
       "6.0       96.232558  18796.511628   5.058140  236.680380\n",
       "7.0      118.666667  30819.333333   5.000000  239.814481\n",
       "8.0       81.388889  23333.333333   5.888889  318.903669\n",
       "9.0      133.600000  15620.000000   6.400000  183.317460\n",
       "10.0     100.636364  22186.363636   7.090909  252.571033\n",
       "11.0     268.500000  10550.000000  11.500000  102.199735\n",
       "12.0      72.500000  20550.000000   8.000000  258.676471\n",
       "13.0     430.000000   7800.000000  14.000000   18.139535\n",
       "14.0     115.000000  30250.000000  10.000000  268.650794\n",
       "16.0      55.000000   6100.000000   4.000000  110.909091\n",
       "17.0      70.000000  20000.000000  17.000000  285.714286\n",
       "22.0     110.000000  41000.000000   4.000000  372.727273"
      ]
     },
     "execution_count": 30,
     "metadata": {},
     "output_type": "execute_result"
    }
   ],
   "source": [
    "df6 = df2.groupby(df2.bedroom).mean()\n",
    "df6"
   ]
  },
  {
   "cell_type": "code",
   "execution_count": 31,
   "id": "96d0d8b1-e838-4121-aac5-fda79c8480a7",
   "metadata": {},
   "outputs": [],
   "source": [
    "df6.reset_index(inplace = True)"
   ]
  },
  {
   "cell_type": "code",
   "execution_count": 32,
   "id": "720ae476-7bf0-434c-846b-fe817be3b4ea",
   "metadata": {},
   "outputs": [
    {
     "name": "stdout",
     "output_type": "stream",
     "text": [
      "<class 'pandas.core.frame.DataFrame'>\n",
      "RangeIndex: 17 entries, 0 to 16\n",
      "Data columns (total 5 columns):\n",
      " #   Column     Non-Null Count  Dtype  \n",
      "---  ------     --------------  -----  \n",
      " 0   bedroom    17 non-null     float64\n",
      " 1   area       17 non-null     float64\n",
      " 2   price      17 non-null     float64\n",
      " 3   toilet     17 non-null     float64\n",
      " 4   UnitPrice  17 non-null     float64\n",
      "dtypes: float64(5)\n",
      "memory usage: 808.0 bytes\n"
     ]
    }
   ],
   "source": [
    "df6.info()"
   ]
  },
  {
   "cell_type": "code",
   "execution_count": 33,
   "id": "4034da6c-93db-40ed-beb7-5dde6104c53d",
   "metadata": {},
   "outputs": [
    {
     "data": {
      "image/png": "[encoded data removed]",
      "text/plain": [
       "<Figure size 432x288 with 1 Axes>"
      ]
     },
     "metadata": {
      "needs_background": "light"
     },
     "output_type": "display_data"
    }
   ],
   "source": [
    "# Vẽ biểu đồ Scatter thể hiện sự thay đổi giá nhà trung bình trên m2 theo số lượng phòng ngủ\n",
    "plt.scatter(df6.bedroom, df6.UnitPrice)\n",
    "plt.show()"
   ]
  }
 ],
 "metadata": {
  "kernelspec": {
   "display_name": "Python 3 (ipykernel)",
   "language": "python",
   "name": "python3"
  },
  "language_info": {
   "codemirror_mode": {
    "name": "ipython",
    "version": 3
   },
   "file_extension": ".py",
   "mimetype": "text/x-python",
   "name": "python",
   "nbconvert_exporter": "python",
   "pygments_lexer": "ipython3",
   "version": "3.10.1"
  }
 },
 "nbformat": 4,
 "nbformat_minor": 5
}
